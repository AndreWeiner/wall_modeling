{
 "cells": [
  {
   "cell_type": "markdown",
   "metadata": {},
   "source": [
    "# **Plotting Skin Friction *C<sub>f</sub>***\n",
    "\n",
    "This notebook explains how to plot skin friction *C<sub>f</sub>* along with x-direction. As a bash script called *'Allrun'* will be executed, this python code will simultaneously executed in order to plot *C<sub>f</sub>*. In this case, we do not need to execute the python again. However, we should export this notebook to **'PlotCf.py'** file and copy it to each case folder that we would like to simulate."
   ]
  },
  {
   "cell_type": "code",
   "execution_count": 1,
   "metadata": {},
   "outputs": [],
   "source": [
    "#!/usr/bin/env python\n",
    "import os, sys\n",
    "import numpy as np\n",
    "import matplotlib.pyplot as plt\n",
    "import pandas as pd"
   ]
  },
  {
   "cell_type": "markdown",
   "metadata": {},
   "source": [
    "## **1. Importing Related Variables from *'Allrun'* Shell Script**\n",
    "\n",
    "In order to reduce the amount of code lines, we need to import some related values (e.g. farfield velocity, kinematic viscosity, model name, and yplus) from the *'Allrun'* script. All the variables except *'model'* are numbers, and therefore they are immediately changed to float or int. Regarding *'yp'* variable, it will be an integer value if the original *'yp'* does not contain any periods (i.e. it is not decimal), and vice versa."
   ]
  },
  {
   "cell_type": "code",
   "execution_count": 2,
   "metadata": {},
   "outputs": [
    {
     "data": {
      "text/plain": [
       "'\\nUInf = float(os.environ[\"UInf\"])\\nnuInf = float(os.environ[\"nuInf\"])\\nmodel = os.environ[\"model\"]\\nyp = os.environ[\"yp\"]\\nif (yp.find(\\'.\\') == -1):\\n    yp = int(os.environ[\"yp\"])\\nelse:\\n    yp = float(os.environ[\"yp\"])\\n'"
      ]
     },
     "execution_count": 2,
     "metadata": {},
     "output_type": "execute_result"
    }
   ],
   "source": [
    "# These lines that are commented out for the purpose of testing in jupyter notebook.\n",
    "'''\n",
    "UInf = 69.4\n",
    "nuInf = 1.388e-05\n",
    "model = \"kOmegaSST\"\n",
    "yp = 1\n",
    "'''\n",
    "UInf = float(os.environ[\"UInf\"])\n",
    "nuInf = float(os.environ[\"nuInf\"])\n",
    "model = os.environ[\"model\"]\n",
    "yp = os.environ[\"yp\"]\n",
    "if (yp.find('.') == -1):\n",
    "    yp = int(os.environ[\"yp\"])\n",
    "else:\n",
    "    yp = float(os.environ[\"yp\"])"
   ]
  },
  {
   "cell_type": "markdown",
   "metadata": {},
   "source": [
    "## **2. Load Data**\n",
    "A \\*.*csv* file that is created during simulation is loaded to python. In addition, *'.head()'* is used for checking top 5 rows and all columns are well divided."
   ]
  },
  {
   "cell_type": "code",
   "execution_count": 3,
   "metadata": {},
   "outputs": [
    {
     "data": {
      "text/html": [
       "<div>\n",
       "<style scoped>\n",
       "    .dataframe tbody tr th:only-of-type {\n",
       "        vertical-align: middle;\n",
       "    }\n",
       "\n",
       "    .dataframe tbody tr th {\n",
       "        vertical-align: top;\n",
       "    }\n",
       "\n",
       "    .dataframe thead th {\n",
       "        text-align: right;\n",
       "    }\n",
       "</style>\n",
       "<table border=\"1\" class=\"dataframe\">\n",
       "  <thead>\n",
       "    <tr style=\"text-align: right;\">\n",
       "      <th></th>\n",
       "      <th>ccx</th>\n",
       "      <th>tau_xx</th>\n",
       "      <th>tau_yy</th>\n",
       "      <th>tau_zz</th>\n",
       "    </tr>\n",
       "  </thead>\n",
       "  <tbody>\n",
       "    <tr>\n",
       "      <th>0</th>\n",
       "      <td>0.000486</td>\n",
       "      <td>-48.7382</td>\n",
       "      <td>-0.938492</td>\n",
       "      <td>0</td>\n",
       "    </tr>\n",
       "    <tr>\n",
       "      <th>1</th>\n",
       "      <td>0.001458</td>\n",
       "      <td>-19.9022</td>\n",
       "      <td>-0.094805</td>\n",
       "      <td>0</td>\n",
       "    </tr>\n",
       "    <tr>\n",
       "      <th>2</th>\n",
       "      <td>0.002433</td>\n",
       "      <td>-14.5502</td>\n",
       "      <td>-0.016927</td>\n",
       "      <td>0</td>\n",
       "    </tr>\n",
       "    <tr>\n",
       "      <th>3</th>\n",
       "      <td>0.003410</td>\n",
       "      <td>-12.1958</td>\n",
       "      <td>-0.008369</td>\n",
       "      <td>0</td>\n",
       "    </tr>\n",
       "    <tr>\n",
       "      <th>4</th>\n",
       "      <td>0.004390</td>\n",
       "      <td>-10.8499</td>\n",
       "      <td>-0.005264</td>\n",
       "      <td>0</td>\n",
       "    </tr>\n",
       "  </tbody>\n",
       "</table>\n",
       "</div>"
      ],
      "text/plain": [
       "        ccx   tau_xx    tau_yy  tau_zz\n",
       "0  0.000486 -48.7382 -0.938492       0\n",
       "1  0.001458 -19.9022 -0.094805       0\n",
       "2  0.002433 -14.5502 -0.016927       0\n",
       "3  0.003410 -12.1958 -0.008369       0\n",
       "4  0.004390 -10.8499 -0.005264       0"
      ]
     },
     "execution_count": 3,
     "metadata": {},
     "output_type": "execute_result"
    }
   ],
   "source": [
    "# This line that is commented out for the purpose of testing in jupyter notebook.\n",
    "#tauw_path = '../run/turbulentFlatPlate2/tauw_{}_{}.csv'.format(model, str(yp))\n",
    "tauw_path = 'tauw_{}_{}.csv'.format(model, str(yp))\n",
    "tauw_data = pd.read_csv(tauw_path, delim_whitespace=True)\n",
    "tauw_data.head()"
   ]
  },
  {
   "cell_type": "markdown",
   "metadata": {},
   "source": [
    "## **3. Calculation of *'Re<sub>x</sub>'* and *'C<sub>f</sub>'***\n",
    "\n",
    "*'Re<sub>x</sub>'* should be calculated for x-axis, and *'C<sub>f</sub>'* is to be found for y-axis. This simulation case is incompressible, and thus only the kinematic viscosity is used."
   ]
  },
  {
   "cell_type": "code",
   "execution_count": 4,
   "metadata": {},
   "outputs": [],
   "source": [
    "x0 = 0\n",
    "Rex = (tauw_data['ccx'] - x0)*UInf/nuInf\n",
    "Cf = np.sqrt(tauw_data['tau_xx']*tauw_data['tau_xx'] + tauw_data['tau_yy']*tauw_data['tau_yy'] + tauw_data['tau_zz']*tauw_data['tau_zz'])/(0.5*UInf**2)"
   ]
  },
  {
   "cell_type": "markdown",
   "metadata": {},
   "source": [
    "## **4. Experimental Data by Wieghardt**\n",
    "\n",
    "The experimental data is to be calculated for comparing between simulation and experimental data."
   ]
  },
  {
   "cell_type": "code",
   "execution_count": 5,
   "metadata": {},
   "outputs": [],
   "source": [
    "wieghardt = 0.288*(np.log10(Rex))**(-2.45)"
   ]
  },
  {
   "cell_type": "markdown",
   "metadata": {},
   "source": [
    "## **5. Plot**\n",
    "\n",
    "Skin friction *'C<sub>f</sub>'* is plotted along with *'Re<sub>x</sub>'*. Since we execute this code in the shell script which contains loops for several yplus values, graphs for each case will be created in the case folder as a \\*.*pdf* format."
   ]
  },
  {
   "cell_type": "code",
   "execution_count": 6,
   "metadata": {},
   "outputs": [
    {
     "data": {
      "image/png": "[encoded data removed]",
      "text/plain": [
       "<Figure size 432x288 with 1 Axes>"
      ]
     },
     "metadata": {
      "needs_background": "light"
     },
     "output_type": "display_data"
    }
   ],
   "source": [
    "plt.figure()\n",
    "plt.ylim([0, 0.006])\n",
    "plt.plot(Rex, Cf, color = 'b', label = \"{} y+ = {}\".format(model, str(yp)))\n",
    "plt.plot(Rex, wieghardt, color = 'r', label = \"Wieghardt\")\n",
    "plt.xlabel(\"Re_x\")\n",
    "plt.ylabel(\"Cf\")\n",
    "plt.grid()\n",
    "plt.legend()\n",
    "plt.savefig(\"tauw_{}_{}.pdf\".format(model, str(yp)))"
   ]
  },
  {
   "cell_type": "code",
   "execution_count": null,
   "metadata": {},
   "outputs": [],
   "source": []
  }
 ],
 "metadata": {
  "kernelspec": {
   "display_name": "Python 3",
   "language": "python",
   "name": "python3"
  },
  "language_info": {
   "codemirror_mode": {
    "name": "ipython",
    "version": 3
   },
   "file_extension": ".py",
   "mimetype": "text/x-python",
   "name": "python",
   "nbconvert_exporter": "python",
   "pygments_lexer": "ipython3",
   "version": "3.8.5"
  }
 },
 "nbformat": 4,
 "nbformat_minor": 4
}
