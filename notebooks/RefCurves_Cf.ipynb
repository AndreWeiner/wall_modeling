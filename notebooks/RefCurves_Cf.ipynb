{
 "cells": [
  {
   "cell_type": "markdown",
   "metadata": {},
   "source": [
    "# **Reference Curves for Skin Friction Coefficient**"
   ]
  },
  {
   "cell_type": "code",
   "execution_count": 1,
   "metadata": {},
   "outputs": [],
   "source": [
    "#!/usr/bin/env python\n",
    "import numpy as np\n",
    "import matplotlib.pyplot as plt\n",
    "import pandas as pd\n",
    "\n",
    "# increase dpi and use latex rendering\n",
    "import matplotlib as mpl\n",
    "mpl.rcParams['figure.dpi'] = 160\n",
    "mpl.rc('text', usetex=True)\n",
    "\n",
    "# Set macro for paths\n",
    "run = \"../run/\"\n",
    "!mkdir -p output"
   ]
  },
  {
   "cell_type": "markdown",
   "metadata": {},
   "source": [
    "## **1. Setup the Related Values**\n",
    "'*nuInf*' is calculated from the literature of *Wieghardt* (1944) with the 5m plate and Re = 10^7."
   ]
  },
  {
   "cell_type": "code",
   "execution_count": 2,
   "metadata": {},
   "outputs": [],
   "source": [
    "# nuInf1 = 5*17.8/10^7\n",
    "UInf1 = 17.8\n",
    "nuInf1 = 8.9e-06\n",
    "\n",
    "# nuInf2 = 5*33.0/10^7\n",
    "UInf2 = 33.0\n",
    "nuInf2 = 1.65e-05"
   ]
  },
  {
   "cell_type": "markdown",
   "metadata": {},
   "source": [
    "## **2. Load data to show *Wieghardt* plot in **OpenFOAM****"
   ]
  },
  {
   "cell_type": "code",
   "execution_count": 3,
   "metadata": {},
   "outputs": [
    {
     "data": {
      "text/html": [
       "<div>\n",
       "<style scoped>\n",
       "    .dataframe tbody tr th:only-of-type {\n",
       "        vertical-align: middle;\n",
       "    }\n",
       "\n",
       "    .dataframe tbody tr th {\n",
       "        vertical-align: top;\n",
       "    }\n",
       "\n",
       "    .dataframe thead th {\n",
       "        text-align: right;\n",
       "    }\n",
       "</style>\n",
       "<table border=\"1\" class=\"dataframe\">\n",
       "  <thead>\n",
       "    <tr style=\"text-align: right;\">\n",
       "      <th></th>\n",
       "      <th>ccx</th>\n",
       "      <th>tau_xx</th>\n",
       "      <th>tau_yy</th>\n",
       "      <th>tau_zz</th>\n",
       "    </tr>\n",
       "  </thead>\n",
       "  <tbody>\n",
       "    <tr>\n",
       "      <th>0</th>\n",
       "      <td>0.000486</td>\n",
       "      <td>-48.7743</td>\n",
       "      <td>-0.967428</td>\n",
       "      <td>0</td>\n",
       "    </tr>\n",
       "    <tr>\n",
       "      <th>1</th>\n",
       "      <td>0.001458</td>\n",
       "      <td>-19.8739</td>\n",
       "      <td>-0.005168</td>\n",
       "      <td>0</td>\n",
       "    </tr>\n",
       "    <tr>\n",
       "      <th>2</th>\n",
       "      <td>0.002433</td>\n",
       "      <td>-14.5191</td>\n",
       "      <td>-0.001111</td>\n",
       "      <td>0</td>\n",
       "    </tr>\n",
       "    <tr>\n",
       "      <th>3</th>\n",
       "      <td>0.003410</td>\n",
       "      <td>-12.3327</td>\n",
       "      <td>-0.000505</td>\n",
       "      <td>0</td>\n",
       "    </tr>\n",
       "    <tr>\n",
       "      <th>4</th>\n",
       "      <td>0.004390</td>\n",
       "      <td>-11.0983</td>\n",
       "      <td>-0.000300</td>\n",
       "      <td>0</td>\n",
       "    </tr>\n",
       "  </tbody>\n",
       "</table>\n",
       "</div>"
      ],
      "text/plain": [
       "        ccx   tau_xx    tau_yy  tau_zz\n",
       "0  0.000486 -48.7743 -0.967428       0\n",
       "1  0.001458 -19.8739 -0.005168       0\n",
       "2  0.002433 -14.5191 -0.001111       0\n",
       "3  0.003410 -12.3327 -0.000505       0\n",
       "4  0.004390 -11.0983 -0.000300       0"
      ]
     },
     "execution_count": 3,
     "metadata": {},
     "output_type": "execute_result"
    }
   ],
   "source": [
    "UInf = 69.4\n",
    "nuInf = 1.388e-05\n",
    "model = \"kOmegaSST\"\n",
    "yp = ['0.05', '1', '2', '5', '10', '30', '50', '100']\n",
    "res_list = ['1e-3', '1e-4', '1e-5', '1e-6']\n",
    "\n",
    "tauw_path = [run + 'turbulentFlatPlate/yplus_{}/tauw_{}_{}_{}.csv'.format(yp[j], model, yp[j], res_list[i]) for j in range(len(yp)) for i in range(len(res_list))]\n",
    "tauw_data = [pd.read_csv(tauw_path[i + len(res_list)*j], delim_whitespace=True) for j in range(len(yp)) for i in range(len(res_list))]\n",
    "tauw_data[0].head()"
   ]
  },
  {
   "cell_type": "markdown",
   "metadata": {},
   "source": [
    "## **3-1. First Experimental Data (U = 17.8 m/s) in the Literature of *Wieghardt***"
   ]
  },
  {
   "cell_type": "code",
   "execution_count": 4,
   "metadata": {},
   "outputs": [
    {
     "data": {
      "text/html": [
       "<div>\n",
       "<style scoped>\n",
       "    .dataframe tbody tr th:only-of-type {\n",
       "        vertical-align: middle;\n",
       "    }\n",
       "\n",
       "    .dataframe tbody tr th {\n",
       "        vertical-align: top;\n",
       "    }\n",
       "\n",
       "    .dataframe thead th {\n",
       "        text-align: right;\n",
       "    }\n",
       "</style>\n",
       "<table border=\"1\" class=\"dataframe\">\n",
       "  <thead>\n",
       "    <tr style=\"text-align: right;\">\n",
       "      <th></th>\n",
       "      <th>x</th>\n",
       "      <th>Curve1</th>\n",
       "    </tr>\n",
       "  </thead>\n",
       "  <tbody>\n",
       "    <tr>\n",
       "      <th>0</th>\n",
       "      <td>0.17196</td>\n",
       "      <td>0.004701</td>\n",
       "    </tr>\n",
       "    <tr>\n",
       "      <th>1</th>\n",
       "      <td>0.27116</td>\n",
       "      <td>0.004252</td>\n",
       "    </tr>\n",
       "    <tr>\n",
       "      <th>2</th>\n",
       "      <td>0.38360</td>\n",
       "      <td>0.003923</td>\n",
       "    </tr>\n",
       "    <tr>\n",
       "      <th>3</th>\n",
       "      <td>0.47619</td>\n",
       "      <td>0.003614</td>\n",
       "    </tr>\n",
       "    <tr>\n",
       "      <th>4</th>\n",
       "      <td>0.79365</td>\n",
       "      <td>0.003453</td>\n",
       "    </tr>\n",
       "  </tbody>\n",
       "</table>\n",
       "</div>"
      ],
      "text/plain": [
       "         x    Curve1\n",
       "0  0.17196  0.004701\n",
       "1  0.27116  0.004252\n",
       "2  0.38360  0.003923\n",
       "3  0.47619  0.003614\n",
       "4  0.79365  0.003453"
      ]
     },
     "execution_count": 4,
     "metadata": {},
     "output_type": "execute_result"
    }
   ],
   "source": [
    "Cf_path1 = 'output/c_f_curve_1.csv'\n",
    "Cf_data1 = pd.read_csv(Cf_path1)\n",
    "Cf_data1.head()"
   ]
  },
  {
   "cell_type": "markdown",
   "metadata": {},
   "source": [
    "## **3-2. Second Experimental Data (U = 33.0 m/s) in the Literature of *Wieghardt***"
   ]
  },
  {
   "cell_type": "code",
   "execution_count": 5,
   "metadata": {},
   "outputs": [
    {
     "data": {
      "text/html": [
       "<div>\n",
       "<style scoped>\n",
       "    .dataframe tbody tr th:only-of-type {\n",
       "        vertical-align: middle;\n",
       "    }\n",
       "\n",
       "    .dataframe tbody tr th {\n",
       "        vertical-align: top;\n",
       "    }\n",
       "\n",
       "    .dataframe thead th {\n",
       "        text-align: right;\n",
       "    }\n",
       "</style>\n",
       "<table border=\"1\" class=\"dataframe\">\n",
       "  <thead>\n",
       "    <tr style=\"text-align: right;\">\n",
       "      <th></th>\n",
       "      <th>x</th>\n",
       "      <th>Curve1</th>\n",
       "    </tr>\n",
       "  </thead>\n",
       "  <tbody>\n",
       "    <tr>\n",
       "      <th>0</th>\n",
       "      <td>0.15923</td>\n",
       "      <td>0.005110</td>\n",
       "    </tr>\n",
       "    <tr>\n",
       "      <th>1</th>\n",
       "      <td>0.26303</td>\n",
       "      <td>0.004293</td>\n",
       "    </tr>\n",
       "    <tr>\n",
       "      <th>2</th>\n",
       "      <td>0.35448</td>\n",
       "      <td>0.003815</td>\n",
       "    </tr>\n",
       "    <tr>\n",
       "      <th>3</th>\n",
       "      <td>0.47252</td>\n",
       "      <td>0.003376</td>\n",
       "    </tr>\n",
       "    <tr>\n",
       "      <th>4</th>\n",
       "      <td>0.65101</td>\n",
       "      <td>0.003257</td>\n",
       "    </tr>\n",
       "  </tbody>\n",
       "</table>\n",
       "</div>"
      ],
      "text/plain": [
       "         x    Curve1\n",
       "0  0.15923  0.005110\n",
       "1  0.26303  0.004293\n",
       "2  0.35448  0.003815\n",
       "3  0.47252  0.003376\n",
       "4  0.65101  0.003257"
      ]
     },
     "execution_count": 5,
     "metadata": {},
     "output_type": "execute_result"
    }
   ],
   "source": [
    "Cf_path2 = 'output/c_f_curve_2.csv'\n",
    "Cf_data2 = pd.read_csv(Cf_path2)\n",
    "Cf_data2.head()"
   ]
  },
  {
   "cell_type": "markdown",
   "metadata": {},
   "source": [
    "## **4-1. Calculating the Coefficients of the First Experiment**"
   ]
  },
  {
   "cell_type": "code",
   "execution_count": 6,
   "metadata": {},
   "outputs": [],
   "source": [
    "Rex1 = Cf_data1['x']*UInf1/nuInf1\n",
    "Cf1 = Cf_data1['Curve1']"
   ]
  },
  {
   "cell_type": "markdown",
   "metadata": {},
   "source": [
    "## **4-2. Calculating the Coefficients of the Second Experiment**"
   ]
  },
  {
   "cell_type": "code",
   "execution_count": 7,
   "metadata": {},
   "outputs": [],
   "source": [
    "Rex2 = Cf_data2['x']*UInf2/nuInf2\n",
    "Cf2 = Cf_data2['Curve1']"
   ]
  },
  {
   "cell_type": "markdown",
   "metadata": {},
   "source": [
    "## **4-3. Calculating the Reference Data**"
   ]
  },
  {
   "cell_type": "code",
   "execution_count": 8,
   "metadata": {},
   "outputs": [],
   "source": [
    "Rex = (tauw_data[0]['ccx'])*UInf/nuInf\n",
    "wieghardt = 0.288*(np.log10(Rex))**(-2.45)\n",
    "prandtl = 0.455*(np.log10(Rex))**(-2.58)"
   ]
  },
  {
   "cell_type": "markdown",
   "metadata": {},
   "source": [
    "## **5. Plot the Experimental Data with the Reference Curves**"
   ]
  },
  {
   "cell_type": "code",
   "execution_count": 9,
   "metadata": {},
   "outputs": [
    {
     "data": {
      "text/plain": [
       "<matplotlib.legend.Legend at 0x7f12d6f04160>"
      ]
     },
     "execution_count": 9,
     "metadata": {},
     "output_type": "execute_result"
    },
    {
     "data": {
      "image/png": "[encoded data removed]",
      "text/plain": [
       "<Figure size 1280x480 with 1 Axes>"
      ]
     },
     "metadata": {
      "needs_background": "light"
     },
     "output_type": "display_data"
    }
   ],
   "source": [
    "style = [\"-\", \"--\", \"-.\", \":\"]\n",
    "lw = 1.0\n",
    "\n",
    "fig, ax = plt.subplots(1, 1, figsize=(8, 3))\n",
    "plt.ylim([0, 0.006])\n",
    "plt.grid()\n",
    "ax.set_xlabel(r\"$Re_x$\")\n",
    "ax.set_ylabel(r\"$C_f$\")\n",
    "plt.title(r\"Skin Friction $C_f$\")\n",
    "ax.scatter(Rex1, Cf1, label = \"$U$ = 17.8 $m/s$\", marker = \".\", c = \"C{:d}\".format(0), lw = lw)\n",
    "ax.scatter(Rex2, Cf2, label = \"$U$ = 33.0 $m/s$\", marker = \".\", c = \"C{:d}\".format(1), lw = lw)\n",
    "ax.plot(Rex, wieghardt, color = \"r\", label = \"Wieghardt in OpenFOAM\", lw = lw)\n",
    "ax.plot(Rex, prandtl, color = \"g\", label = \"Prandtl\", lw = lw)\n",
    "ax.legend(fontsize = 9)"
   ]
  },
  {
   "cell_type": "markdown",
   "metadata": {},
   "source": [
    "## **6-1. Functions for a Regression Method**"
   ]
  },
  {
   "cell_type": "code",
   "execution_count": 10,
   "metadata": {},
   "outputs": [],
   "source": [
    "def PrandtlEq (Rex, m, p, n):\n",
    "    c_f = m*(np.log10(Rex) + p)**(-n)\n",
    "    return c_f\n",
    "\n",
    "def CostFunc (c_f1, Cf1, c_f2, Cf2):\n",
    "    train_m1 = len(c_f1)\n",
    "    train_m2 = len(c_f2)\n",
    "    cost = 1/(2*train_m1)*np.dot(c_f1 - Cf1, c_f1 - Cf1) + 1/(2*train_m2)*np.dot(c_f2 - Cf2, c_f2 - Cf2)\n",
    "    return cost\n",
    "\n",
    "def dJdm (c_f1, Cf1, c_f2, Cf2, Rex1, Rex2, m, p, n):\n",
    "    train_m1 = len(c_f1)\n",
    "    train_m2 = len(c_f2)\n",
    "    dm = (1/train_m1)*np.dot(c_f1 - Cf1, (np.log10(Rex1) + p)**(-n)) + (1/train_m2)*np.dot(c_f2 - Cf2, (np.log10(Rex2) + p)**(-n))\n",
    "    return dm\n",
    "\n",
    "def dJdp (c_f1, Cf1, c_f2, Cf2, Rex1, Rex2, m, p, n):\n",
    "    train_m1 = len(c_f1)\n",
    "    train_m2 = len(c_f2)\n",
    "    dp = (1/train_m1)*np.dot(c_f1 - Cf1, m*(-n)*(np.log10(Rex1) + p)**(-n-1)) + (1/train_m2)*np.dot(c_f2 - Cf2, m*(-n)*(np.log10(Rex2) + p)**(-n-1))\n",
    "    return dp\n",
    "\n",
    "def dJdn (c_f1, Cf1, c_f2, Cf2, Rex1, Rex2, m, p, n):\n",
    "    train_m1 = len(c_f1)\n",
    "    train_m2 = len(c_f2)\n",
    "    dn = (1/train_m1)*np.dot(c_f1 - Cf1, m*(-np.log(np.log10(Rex1) + p))*((np.log10(Rex1) + p)**(-n))) + (1/train_m2)*np.dot(c_f2 - Cf2, m*(-np.log(np.log10(Rex2) + p))*((np.log10(Rex2) + p)**(-n)))\n",
    "    return dn"
   ]
  },
  {
   "cell_type": "markdown",
   "metadata": {},
   "source": [
    "## **6-2. Execution of the Regression Method**\n",
    "\n",
    "Both experimental data 1 and 2 are used to calculate the cost function. Therefore, the regression method also uses both of data. Even though p is fixed to 0, a number of local minima exist."
   ]
  },
  {
   "cell_type": "code",
   "execution_count": 11,
   "metadata": {},
   "outputs": [
    {
     "name": "stdout",
     "output_type": "stream",
     "text": [
      "epoch :824, m : 0.2709755833762757, p : 0, n : 2.400610384043095, cost : 3.5019688207787365e-08\n"
     ]
    }
   ],
   "source": [
    "# Fix p = 0\n",
    "m = 0.400\n",
    "p = 0\n",
    "n = 2.0\n",
    "alpha_m = 10\n",
    "#alpha_p = 1\n",
    "alpha_n = 50\n",
    "\n",
    "oldcost = 0\n",
    "cost = 1\n",
    "epoch = 0\n",
    "\n",
    "while(abs(cost - oldcost) > 1e-12):\n",
    "    c_f1 = PrandtlEq(Rex1, m, p, n)\n",
    "    c_f2 = PrandtlEq(Rex2, m, p, n)\n",
    "    oldcost = cost\n",
    "    m -= alpha_m*dJdm(c_f1, Cf1, c_f2, Cf2, Rex1, Rex2, m, p, n)\n",
    "    #p -= alpha_p*dJdp(c_f1, Cf1, c_f2, Cf2, Rex1, Rex2, m, p, n)\n",
    "    n -= alpha_n*dJdn(c_f1, Cf1, c_f2, Cf2, Rex1, Rex2, m, p, n)\n",
    "    cost = CostFunc(c_f1, Cf1, c_f2, Cf2)\n",
    "    epoch += 1    \n",
    "    if (epoch%1000 == 0):\n",
    "        print(abs(cost - oldcost))\n",
    "\n",
    "print(\"epoch :{}, m : {}, p : {}, n : {}, cost : {}\".format(epoch, m, p, n, cost))"
   ]
  },
  {
   "cell_type": "markdown",
   "metadata": {},
   "source": [
    "## **6-3. Execution of Brute Force Method**\n",
    "\n",
    "We check the cost for all the list of m, p, and n by using brute force method. The range of each list is based on the two references of the equation in *Wieghardt(1944)* and in **OpenFOAM**. This method is more suitable to find the minimum cost value than the regression method."
   ]
  },
  {
   "cell_type": "code",
   "execution_count": 12,
   "metadata": {},
   "outputs": [
    {
     "name": "stdout",
     "output_type": "stream",
     "text": [
      "m : [0.455, 0.445, 0.435, 0.42500000000000004, 0.41500000000000004, 0.405, 0.395, 0.385, 0.375, 0.365, 0.355, 0.34500000000000003, 0.335, 0.325, 0.315, 0.30500000000000005, 0.29500000000000004, 0.28500000000000003, 0.275, 0.265]\n",
      "\n",
      "p : [-0.1, -0.09000000000000001, -0.08, -0.07, -0.060000000000000005, -0.05, -0.04000000000000001, -0.03, -0.020000000000000004, -0.010000000000000009, 0.0, 0.009999999999999995, 0.01999999999999999, 0.03, 0.04000000000000001, 0.04999999999999999, 0.06, 0.07, 0.07999999999999999, 0.09]\n",
      "\n",
      "n : [2.6, 2.5900000000000003, 2.58, 2.5700000000000003, 2.56, 2.5500000000000003, 2.54, 2.5300000000000002, 2.52, 2.5100000000000002, 2.5, 2.49, 2.48, 2.47, 2.46, 2.45, 2.44, 2.43, 2.42, 2.41]\n",
      "\n",
      "(20, 20, 20)\n"
     ]
    }
   ],
   "source": [
    "m_list = [0.455 - 0.01*i for i in range(20)]\n",
    "print(\"m : {}\".format(m_list))\n",
    "p_list = [-0.1 + 0.01*j for j in range(20)]\n",
    "print(\"\\np : {}\".format(p_list))\n",
    "n_list = [2.60 - 0.01*k for k in range(20)]\n",
    "print(\"\\nn : {}\\n\".format(n_list))\n",
    "\n",
    "# Create a three dimensional matrix to find each index for minimum cost value\n",
    "cost_list = np.zeros(len(m_list)*len(p_list)*len(n_list),)\n",
    "cost_list = cost_list.reshape(len(m_list), len(p_list), len(n_list))\n",
    "print(cost_list.shape)"
   ]
  },
  {
   "cell_type": "code",
   "execution_count": 13,
   "metadata": {},
   "outputs": [
    {
     "name": "stdout",
     "output_type": "stream",
     "text": [
      "(8, 0, 0)\n"
     ]
    }
   ],
   "source": [
    "# Brute Force\n",
    "for k in range(len(n_list)):\n",
    "    for j in range(len(p_list)):\n",
    "        for i in range(len(m_list)):\n",
    "            c_f_brute1 = PrandtlEq(Rex1, m_list[i], p_list[j], n_list[k])\n",
    "            c_f_brute2 = PrandtlEq(Rex2, m_list[i], p_list[j], n_list[k])\n",
    "            cost_list[i][j][k] = CostFunc(c_f_brute1, Cf1, c_f_brute2, Cf2)\n",
    "\n",
    "# Find indices for a multiple dimensional matrix\n",
    "min_index = np.unravel_index(np.argmin(cost_list, axis=None), cost_list.shape)\n",
    "print(min_index)"
   ]
  },
  {
   "cell_type": "code",
   "execution_count": 14,
   "metadata": {},
   "outputs": [
    {
     "name": "stdout",
     "output_type": "stream",
     "text": [
      "The m, p, n values with respect to the minimum cost value.\n",
      "m = 0.375\n",
      "p = -0.1\n",
      "n = 2.6\n",
      "Cost = 3.049977913346295e-08\n"
     ]
    }
   ],
   "source": [
    "print(\"The m, p, n values with respect to the minimum cost value.\")\n",
    "print(\"m = {}\".format(m_list[min_index[0]]))\n",
    "print(\"p = {}\".format(p_list[min_index[1]]))\n",
    "print(\"n = {}\".format(n_list[min_index[2]]))\n",
    "print(\"Cost = {}\".format(CostFunc(PrandtlEq(Rex1, m_list[min_index[0]], p_list[min_index[1]], n_list[min_index[2]]), Cf1, PrandtlEq(Rex2, m_list[min_index[0]], p_list[min_index[1]], n_list[min_index[2]]), Cf2)))"
   ]
  },
  {
   "cell_type": "markdown",
   "metadata": {},
   "source": [
    "## **7-1. Plot the Regression Curve with the Experimental Data Curve**"
   ]
  },
  {
   "cell_type": "code",
   "execution_count": 15,
   "metadata": {},
   "outputs": [
    {
     "data": {
      "text/plain": [
       "<matplotlib.legend.Legend at 0x7f12d6e8cc70>"
      ]
     },
     "execution_count": 15,
     "metadata": {},
     "output_type": "execute_result"
    },
    {
     "data": {
      "image/png": "[encoded data removed]",
      "text/plain": [
       "<Figure size 1280x480 with 1 Axes>"
      ]
     },
     "metadata": {
      "needs_background": "light"
     },
     "output_type": "display_data"
    }
   ],
   "source": [
    "style2 = [\"-\", \"--\", \"-.\", \":\"]\n",
    "lw2 = 1.0\n",
    "\n",
    "fig2, ax2 = plt.subplots(1, 1, figsize=(8, 3))\n",
    "plt.ylim([0, 0.006])\n",
    "plt.grid()\n",
    "ax2.set_xlabel(r\"$Re_x$\")\n",
    "ax2.set_ylabel(r\"$C_f$\")\n",
    "plt.title(r\"Skin Friction $C_f$\")\n",
    "ax2.scatter(Rex1, Cf1, label = \"$U$ = 17.8 $m/s$\", marker = \".\", c = \"C{:d}\".format(0), lw = lw2)\n",
    "ax2.scatter(Rex2, Cf2, label = \"$U$ = 33.0 $m/s$\", marker = \".\", c = \"C{:d}\".format(1), lw = lw2)\n",
    "ax2.plot(Rex1, PrandtlEq(Rex1, m, p, n), label = \"Regression\", ls = style2[0], c = 'g', lw = lw2)\n",
    "ax2.legend(fontsize = 9)"
   ]
  },
  {
   "cell_type": "markdown",
   "metadata": {},
   "source": [
    "## **7-2. Plot for Brute Force Method**"
   ]
  },
  {
   "cell_type": "code",
   "execution_count": 16,
   "metadata": {},
   "outputs": [
    {
     "data": {
      "text/plain": [
       "<matplotlib.legend.Legend at 0x7f12d6dfa610>"
      ]
     },
     "execution_count": 16,
     "metadata": {},
     "output_type": "execute_result"
    },
    {
     "data": {
      "image/png": "[encoded data removed]",
      "text/plain": [
       "<Figure size 1280x480 with 1 Axes>"
      ]
     },
     "metadata": {
      "needs_background": "light"
     },
     "output_type": "display_data"
    }
   ],
   "source": [
    "style3 = [\"-\", \"--\", \"-.\", \":\"]\n",
    "lw3 = 1.0\n",
    "\n",
    "fig3, ax3 = plt.subplots(1, 1, figsize=(8, 3))\n",
    "plt.ylim([0, 0.006])\n",
    "plt.grid()\n",
    "ax3.set_xlabel(r\"$Re_x$\")\n",
    "ax3.set_ylabel(r\"$C_f$\")\n",
    "plt.title(r\"Skin Friction $C_f$\")\n",
    "ax3.scatter(Rex1, Cf1, label = \"$U$ = 17.8 $m/s$\", marker = \".\", c = \"C{:d}\".format(0), lw = lw3)\n",
    "ax3.scatter(Rex2, Cf2, label = \"$U$ = 33.0 $m/s$\", marker = \".\", c = \"C{:d}\".format(1), lw = lw3)\n",
    "ax3.plot(Rex1, PrandtlEq(Rex1, m_list[min_index[0]], p_list[min_index[1]], n_list[min_index[2]]), label = \"Brute Force\", ls = style3[0], c = 'r', lw = lw3)\n",
    "ax3.legend(fontsize = 9)"
   ]
  }
 ],
 "metadata": {
  "kernelspec": {
   "display_name": "Python 3",
   "language": "python",
   "name": "python3"
  },
  "language_info": {
   "codemirror_mode": {
    "name": "ipython",
    "version": 3
   },
   "file_extension": ".py",
   "mimetype": "text/x-python",
   "name": "python",
   "nbconvert_exporter": "python",
   "pygments_lexer": "ipython3",
   "version": "3.8.5"
  }
 },
 "nbformat": 4,
 "nbformat_minor": 4
}
