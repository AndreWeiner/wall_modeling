{
 "cells": [
  {
   "cell_type": "code",
   "execution_count": 1,
   "metadata": {},
   "outputs": [],
   "source": [
    "#!/usr/bin/env python\n",
    "import os, sys\n",
    "import numpy as np\n",
    "import matplotlib.pyplot as plt\n",
    "import pandas as pd"
   ]
  },
  {
   "cell_type": "code",
   "execution_count": 2,
   "metadata": {},
   "outputs": [
    {
     "data": {
      "text/plain": [
       "'\\nmodel = os.environ[\"model\"]\\nyp = os.environ[\"yp\"]\\nif (yp.find(\\'.\\') == -1):\\n    yp = int(os.environ[\"yp\"])\\nelse:\\n    yp = float(os.environ[\"yp\"])\\n'"
      ]
     },
     "execution_count": 2,
     "metadata": {},
     "output_type": "execute_result"
    }
   ],
   "source": [
    "# These lines that are commented out for the purpose of testing in jupyter notebook.\n",
    "'''\n",
    "model = \"kOmegaSST\"\n",
    "yp = 1\n",
    "'''\n",
    "model = os.environ[\"model\"]\n",
    "yp = os.environ[\"yp\"]\n",
    "if (yp.find('.') == -1):\n",
    "    yp = int(os.environ[\"yp\"])\n",
    "else:\n",
    "    yp = float(os.environ[\"yp\"])"
   ]
  },
  {
   "cell_type": "code",
   "execution_count": 7,
   "metadata": {},
   "outputs": [
    {
     "data": {
      "text/html": [
       "<div>\n",
       "<style scoped>\n",
       "    .dataframe tbody tr th:only-of-type {\n",
       "        vertical-align: middle;\n",
       "    }\n",
       "\n",
       "    .dataframe tbody tr th {\n",
       "        vertical-align: top;\n",
       "    }\n",
       "\n",
       "    .dataframe thead th {\n",
       "        text-align: right;\n",
       "    }\n",
       "</style>\n",
       "<table border=\"1\" class=\"dataframe\">\n",
       "  <thead>\n",
       "    <tr style=\"text-align: right;\">\n",
       "      <th></th>\n",
       "      <th>Time</th>\n",
       "      <th>U_solver</th>\n",
       "      <th>Ux_initial</th>\n",
       "      <th>Ux_final</th>\n",
       "      <th>Ux_iters</th>\n",
       "      <th>Uy_initial</th>\n",
       "      <th>Uy_final</th>\n",
       "      <th>Uy_iters</th>\n",
       "      <th>U_converged</th>\n",
       "      <th>p_solver</th>\n",
       "      <th>p_initial</th>\n",
       "      <th>p_final</th>\n",
       "      <th>p_iters</th>\n",
       "      <th>p_converged</th>\n",
       "    </tr>\n",
       "  </thead>\n",
       "  <tbody>\n",
       "    <tr>\n",
       "      <th>0</th>\n",
       "      <td>1</td>\n",
       "      <td>smoothSolver</td>\n",
       "      <td>1.000000</td>\n",
       "      <td>0.053604</td>\n",
       "      <td>2</td>\n",
       "      <td>1.000000</td>\n",
       "      <td>0.091371</td>\n",
       "      <td>1</td>\n",
       "      <td>False</td>\n",
       "      <td>GAMG</td>\n",
       "      <td>1.000000</td>\n",
       "      <td>0.078214</td>\n",
       "      <td>16</td>\n",
       "      <td>True</td>\n",
       "    </tr>\n",
       "    <tr>\n",
       "      <th>1</th>\n",
       "      <td>2</td>\n",
       "      <td>smoothSolver</td>\n",
       "      <td>0.039936</td>\n",
       "      <td>0.003989</td>\n",
       "      <td>3</td>\n",
       "      <td>0.197585</td>\n",
       "      <td>0.005002</td>\n",
       "      <td>1</td>\n",
       "      <td>False</td>\n",
       "      <td>GAMG</td>\n",
       "      <td>0.002437</td>\n",
       "      <td>0.000185</td>\n",
       "      <td>7</td>\n",
       "      <td>True</td>\n",
       "    </tr>\n",
       "    <tr>\n",
       "      <th>2</th>\n",
       "      <td>3</td>\n",
       "      <td>smoothSolver</td>\n",
       "      <td>0.014343</td>\n",
       "      <td>0.000915</td>\n",
       "      <td>5</td>\n",
       "      <td>0.098631</td>\n",
       "      <td>0.003412</td>\n",
       "      <td>1</td>\n",
       "      <td>False</td>\n",
       "      <td>GAMG</td>\n",
       "      <td>0.003718</td>\n",
       "      <td>0.000330</td>\n",
       "      <td>5</td>\n",
       "      <td>True</td>\n",
       "    </tr>\n",
       "    <tr>\n",
       "      <th>3</th>\n",
       "      <td>4</td>\n",
       "      <td>smoothSolver</td>\n",
       "      <td>0.008090</td>\n",
       "      <td>0.000651</td>\n",
       "      <td>5</td>\n",
       "      <td>0.063327</td>\n",
       "      <td>0.002458</td>\n",
       "      <td>1</td>\n",
       "      <td>False</td>\n",
       "      <td>GAMG</td>\n",
       "      <td>0.004031</td>\n",
       "      <td>0.000304</td>\n",
       "      <td>5</td>\n",
       "      <td>True</td>\n",
       "    </tr>\n",
       "    <tr>\n",
       "      <th>4</th>\n",
       "      <td>5</td>\n",
       "      <td>smoothSolver</td>\n",
       "      <td>0.005590</td>\n",
       "      <td>0.000505</td>\n",
       "      <td>5</td>\n",
       "      <td>0.045845</td>\n",
       "      <td>0.001789</td>\n",
       "      <td>1</td>\n",
       "      <td>False</td>\n",
       "      <td>GAMG</td>\n",
       "      <td>0.004191</td>\n",
       "      <td>0.000289</td>\n",
       "      <td>4</td>\n",
       "      <td>True</td>\n",
       "    </tr>\n",
       "  </tbody>\n",
       "</table>\n",
       "</div>"
      ],
      "text/plain": [
       "   Time      U_solver  Ux_initial  Ux_final  Ux_iters  Uy_initial  Uy_final  \\\n",
       "0     1  smoothSolver    1.000000  0.053604         2    1.000000  0.091371   \n",
       "1     2  smoothSolver    0.039936  0.003989         3    0.197585  0.005002   \n",
       "2     3  smoothSolver    0.014343  0.000915         5    0.098631  0.003412   \n",
       "3     4  smoothSolver    0.008090  0.000651         5    0.063327  0.002458   \n",
       "4     5  smoothSolver    0.005590  0.000505         5    0.045845  0.001789   \n",
       "\n",
       "   Uy_iters  U_converged p_solver  p_initial   p_final  p_iters  p_converged  \n",
       "0         1        False     GAMG   1.000000  0.078214       16         True  \n",
       "1         1        False     GAMG   0.002437  0.000185        7         True  \n",
       "2         1        False     GAMG   0.003718  0.000330        5         True  \n",
       "3         1        False     GAMG   0.004031  0.000304        5         True  \n",
       "4         1        False     GAMG   0.004191  0.000289        4         True  "
      ]
     },
     "execution_count": 7,
     "metadata": {},
     "output_type": "execute_result"
    }
   ],
   "source": [
    "# This line that is commented out for the purpose of testing in jupyter notebook.\n",
    "#solverInfo_path = '../run/turbulentFlatPlate1/solverInfo_{}_{}.csv'.format(model, str(yp))\n",
    "solverInfo_path = 'solverInfo_{}_{}.csv'.format(model, str(yp))\n",
    "solverInfo_data = pd.read_csv(solverInfo_path, delim_whitespace=True, skiprows = 1)\n",
    "solverInfo_data.head()"
   ]
  },
  {
   "cell_type": "code",
   "execution_count": 8,
   "metadata": {},
   "outputs": [],
   "source": [
    "Ux_init_res = solverInfo_data['Ux_initial']\n",
    "Uy_init_res = solverInfo_data['Uy_initial']\n",
    "p_init_res = solverInfo_data['p_initial']\n",
    "t = solverInfo_data['Time']"
   ]
  },
  {
   "cell_type": "code",
   "execution_count": 12,
   "metadata": {},
   "outputs": [
    {
     "data": {
      "text/plain": [
       "<matplotlib.legend.Legend at 0x7f3a72187850>"
      ]
     },
     "execution_count": 12,
     "metadata": {},
     "output_type": "execute_result"
    },
    {
     "data": {
      "image/png": "[encoded data removed]",
      "text/plain": [
       "<Figure size 432x288 with 1 Axes>"
      ]
     },
     "metadata": {
      "needs_background": "light"
     },
     "output_type": "display_data"
    }
   ],
   "source": [
    "plt.figure()\n",
    "plt.yscale(\"log\")\n",
    "plt.plot(t, Ux_init_res, color = 'b', label = \"Ux\")\n",
    "plt.plot(t, Uy_init_res, color = 'r', label = \"Uy\")\n",
    "plt.plot(t, p_init_res, color = 'g', label = \"p\")\n",
    "plt.xlabel(\"Time\")\n",
    "plt.ylabel(\"Initial Residual (log scale)\")\n",
    "plt.grid()\n",
    "plt.legend()\n",
    "plt.savefig(\"solverInfo_{}_{}.pdf\".format(model, str(yp)))"
   ]
  }
 ],
 "metadata": {
  "kernelspec": {
   "display_name": "Python 3",
   "language": "python",
   "name": "python3"
  },
  "language_info": {
   "codemirror_mode": {
    "name": "ipython",
    "version": 3
   },
   "file_extension": ".py",
   "mimetype": "text/x-python",
   "name": "python",
   "nbconvert_exporter": "python",
   "pygments_lexer": "ipython3",
   "version": "3.8.5"
  }
 },
 "nbformat": 4,
 "nbformat_minor": 4
}
